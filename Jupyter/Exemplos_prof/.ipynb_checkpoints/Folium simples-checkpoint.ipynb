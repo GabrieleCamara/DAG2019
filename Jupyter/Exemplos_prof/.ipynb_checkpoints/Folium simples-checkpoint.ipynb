{
 "cells": [
  {
   "cell_type": "code",
   "execution_count": 1,
   "metadata": {},
   "outputs": [
    {
     "name": "stderr",
     "output_type": "stream",
     "text": [
      "/usr/local/lib/python2.7/dist-packages/folium/__init__.py:59: UserWarning: This version of folium is the last to support Python 2. Transition to Python 3 to be able to receive updates and fixes. Check out https://python3statement.org/ for more info.\n",
      "  UserWarning\n"
     ]
    },
    {
     "name": "stdout",
     "output_type": "stream",
     "text": [
      "Digite a latitude inicial-25\n",
      "Digite a longitude inicial-49\n"
     ]
    },
    {
     "data": {
      "text/html": [
       "<div style=\"width:100%;\"><div style=\"position:relative;width:100%;height:0;padding-bottom:60%;\"><iframe src=\"data:text/html;charset=utf-8;base64,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\" style=\"position:absolute;width:100%;height:100%;left:0;top:0;border:none !important;\" allowfullscreen webkitallowfullscreen mozallowfullscreen></iframe></div></div>"
      ],
      "text/plain": [
       "<folium.folium.Map at 0x7f72e8394410>"
      ]
     },
     "execution_count": 1,
     "metadata": {},
     "output_type": "execute_result"
    }
   ],
   "source": [
    "import folium\n",
    "\n",
    "lat1 = float(raw_input ('Digite a latitude inicial'))\n",
    "long1 = float(raw_input ('Digite a longitude inicial'))\n",
    "\n",
    "m =  folium.Map (location=[lat1,long1], zoom_start=12)\n",
    "\n",
    "folium.Marker(\n",
    "    location=[lat1,long1],\n",
    "    popup='Seu ponto inicial',\n",
    "    icon=folium.Icon(color='red', icon='info-sign')\n",
    ").add_to(m)\n",
    "\n",
    "folium.raster_layers.WmsTileLayer(\n",
    "    name=\"Municipios\",\n",
    "    url=\"http://localhost:8082/geoserver/sig/wms\",\n",
    "    format=\"image/png\",\n",
    "    layers='sig:mun_sirgas',\n",
    "    transparent='true'\n",
    ").add_to(m)\n",
    "\n",
    "folium.LayerControl().add_to(m)\n",
    "        \n",
    "m\n"
   ]
  },
  {
   "cell_type": "code",
   "execution_count": null,
   "metadata": {},
   "outputs": [],
   "source": []
  }
 ],
 "metadata": {
  "kernelspec": {
   "display_name": "Python 2",
   "language": "python",
   "name": "python2"
  },
  "language_info": {
   "codemirror_mode": {
    "name": "ipython",
    "version": 2
   },
   "file_extension": ".py",
   "mimetype": "text/x-python",
   "name": "python",
   "nbconvert_exporter": "python",
   "pygments_lexer": "ipython2",
   "version": "2.7.15rc1"
  }
 },
 "nbformat": 4,
 "nbformat_minor": 2
}
