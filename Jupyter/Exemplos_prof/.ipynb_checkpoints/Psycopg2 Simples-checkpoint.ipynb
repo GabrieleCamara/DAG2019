{
 "cells": [
  {
   "cell_type": "code",
   "execution_count": 1,
   "metadata": {},
   "outputs": [
    {
     "name": "stdout",
     "output_type": "stream",
     "text": [
      "Hello\n"
     ]
    }
   ],
   "source": [
    "print \"Hello\""
   ]
  },
  {
   "cell_type": "markdown",
   "metadata": {},
   "source": [
    "Essa é aula"
   ]
  },
  {
   "cell_type": "code",
   "execution_count": 2,
   "metadata": {},
   "outputs": [],
   "source": [
    "import psycopg2"
   ]
  },
  {
   "cell_type": "code",
   "execution_count": 1,
   "metadata": {},
   "outputs": [
    {
     "name": "stdout",
     "output_type": "stream",
     "text": [
      "Digite o nome de um municipio:CURITIBA\n",
      "\n",
      "Area de CURITIBA em km2:\n",
      "\n",
      "    435.006205288\n"
     ]
    }
   ],
   "source": [
    "import psycopg2\n",
    "mun = raw_input(\"Digite o nome de um municipio:\")\n",
    "conn = psycopg2.connect(\"dbname = 'sig' port = '5432'  user= 'user' password = 'user' host='localhost'\")\n",
    "cur = conn.cursor()\n",
    "cur.execute (\"\"\"SELECT ST_Area(ST_Transform(geom,29192)) FROM mun_sirgas WHERE nm_municip = '%s';\"\"\"% mun)\n",
    "rows = cur.fetchall()\n",
    "print \"\\nArea de %s em km2:\\n\" % mun\n",
    "for row in rows:\n",
    "    print \"   \", (row[0]/1000000)\n",
    "conn.commit()\n",
    "cur.close()\n",
    "conn.close()\n"
   ]
  },
  {
   "cell_type": "code",
   "execution_count": null,
   "metadata": {},
   "outputs": [],
   "source": []
  },
  {
   "cell_type": "code",
   "execution_count": null,
   "metadata": {},
   "outputs": [],
   "source": []
  }
 ],
 "metadata": {
  "kernelspec": {
   "display_name": "Python 2",
   "language": "python",
   "name": "python2"
  },
  "language_info": {
   "codemirror_mode": {
    "name": "ipython",
    "version": 2
   },
   "file_extension": ".py",
   "mimetype": "text/x-python",
   "name": "python",
   "nbconvert_exporter": "python",
   "pygments_lexer": "ipython2",
   "version": "2.7.15rc1"
  }
 },
 "nbformat": 4,
 "nbformat_minor": 2
}
